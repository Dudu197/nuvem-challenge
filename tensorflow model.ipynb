{
 "cells": [
  {
   "cell_type": "markdown",
   "id": "a4141254",
   "metadata": {},
   "source": [
    "# Tensorflow model\n",
    "This time will train a Tensorflow model to try to predict the correct targets"
   ]
  },
  {
   "cell_type": "code",
   "execution_count": 17,
   "id": "c6770f16",
   "metadata": {},
   "outputs": [],
   "source": [
    "import pandas as pd\n",
    "import numpy as np\n",
    "import tensorflow as tf\n",
    "from tensorflow.keras.models import Sequential\n",
    "from tensorflow.keras.layers import Dense\n",
    "from keras.optimizers import Adam\n",
    "from sklearn.model_selection import train_test_split\n",
    "from matplotlib import pyplot as plt"
   ]
  },
  {
   "cell_type": "code",
   "execution_count": 2,
   "id": "822511fb",
   "metadata": {},
   "outputs": [],
   "source": [
    "df = pd.read_csv(\"test_data.csv\", sep=\";\")"
   ]
  },
  {
   "cell_type": "code",
   "execution_count": 3,
   "id": "c34155ec",
   "metadata": {},
   "outputs": [],
   "source": [
    "df = df.drop(\"Unnamed: 0\", axis=1)"
   ]
  },
  {
   "cell_type": "code",
   "execution_count": 4,
   "id": "aff19ee4",
   "metadata": {},
   "outputs": [],
   "source": [
    "df = df.set_index(\"id\")"
   ]
  },
  {
   "cell_type": "code",
   "execution_count": 5,
   "id": "47c5240b",
   "metadata": {},
   "outputs": [],
   "source": [
    "country_index = list(df[\"country\"].unique())\n",
    "platform_index = list(df[\"creation_platform\"].unique())\n",
    "source_index = list(df[\"source_pulido\"].unique())"
   ]
  },
  {
   "cell_type": "code",
   "execution_count": 6,
   "id": "37c01b0b",
   "metadata": {},
   "outputs": [],
   "source": [
    "df_num_values = df.drop([\"country\", \"creation_platform\", \"source_pulido\"], axis=1)\n",
    "df_num_values[\"country_index\"] = df[\"country\"].apply(lambda i: country_index.index(i))\n",
    "df_num_values[\"creation_platform_index\"] = df[\"creation_platform\"].apply(lambda i: platform_index.index(i))\n",
    "df_num_values[\"source_pulido_index\"] = df[\"source_pulido\"].apply(lambda i: source_index.index(i))"
   ]
  },
  {
   "cell_type": "code",
   "execution_count": 7,
   "id": "39847ad6",
   "metadata": {},
   "outputs": [],
   "source": [
    "X_train, X_test, y_train, y_test = train_test_split(df_num_values.drop(\"target\", axis=1), df_num_values.target, test_size=0.2, random_state=42)"
   ]
  },
  {
   "cell_type": "markdown",
   "id": "0a1f95b2",
   "metadata": {},
   "source": [
    "Let's create a binary classification model.\n",
    "\n",
    "It will be composed by two Dense layers and one last output layer, with only one unit"
   ]
  },
  {
   "cell_type": "code",
   "execution_count": 40,
   "id": "ae494df0",
   "metadata": {},
   "outputs": [],
   "source": [
    "model = Sequential()\n",
    "model.add(Dense(64, input_dim=X_train.shape[1], activation='relu'))\n",
    "model.add(Dense(32, activation='relu'))\n",
    "model.add(Dense(1, activation='sigmoid'))"
   ]
  },
  {
   "cell_type": "markdown",
   "id": "212ec1eb",
   "metadata": {},
   "source": [
    "As a loss function, we'll use `binary_crossentropy`, since we are trying to predict a binary classification.\n",
    "\n",
    "For optimizer, we will use the Adam, with a learning rate of 10e-4"
   ]
  },
  {
   "cell_type": "code",
   "execution_count": 41,
   "id": "919910b2",
   "metadata": {},
   "outputs": [],
   "source": [
    "model.compile(loss='binary_crossentropy', optimizer=Adam(learning_rate=10e-4), metrics=['accuracy'])"
   ]
  },
  {
   "cell_type": "code",
   "execution_count": 42,
   "id": "f6fcced1",
   "metadata": {},
   "outputs": [
    {
     "name": "stdout",
     "output_type": "stream",
     "text": [
      "Model: \"sequential_1\"\n",
      "_________________________________________________________________\n",
      " Layer (type)                Output Shape              Param #   \n",
      "=================================================================\n",
      " dense_4 (Dense)             (None, 64)                896       \n",
      "                                                                 \n",
      " dense_5 (Dense)             (None, 32)                2080      \n",
      "                                                                 \n",
      " dense_6 (Dense)             (None, 1)                 33        \n",
      "                                                                 \n",
      "=================================================================\n",
      "Total params: 3009 (11.75 KB)\n",
      "Trainable params: 3009 (11.75 KB)\n",
      "Non-trainable params: 0 (0.00 Byte)\n",
      "_________________________________________________________________\n"
     ]
    }
   ],
   "source": [
    "model.summary()"
   ]
  },
  {
   "cell_type": "markdown",
   "id": "83862fa0",
   "metadata": {},
   "source": [
    "Let's train for 5 epochs using a batch size of 32."
   ]
  },
  {
   "cell_type": "code",
   "execution_count": 43,
   "id": "b804fc8f",
   "metadata": {},
   "outputs": [
    {
     "name": "stdout",
     "output_type": "stream",
     "text": [
      "Epoch 1/5\n",
      "14634/14634 [==============================] - 36s 2ms/step - loss: 0.2665 - accuracy: 0.9159 - val_loss: 0.2151 - val_accuracy: 0.9195\n",
      "Epoch 2/5\n",
      "14634/14634 [==============================] - 35s 2ms/step - loss: 0.2096 - accuracy: 0.9205 - val_loss: 0.2060 - val_accuracy: 0.9216\n",
      "Epoch 3/5\n",
      "14634/14634 [==============================] - 36s 2ms/step - loss: 0.2074 - accuracy: 0.9206 - val_loss: 0.2051 - val_accuracy: 0.9220\n",
      "Epoch 4/5\n",
      "14634/14634 [==============================] - 36s 2ms/step - loss: 0.2064 - accuracy: 0.9206 - val_loss: 0.2044 - val_accuracy: 0.9220\n",
      "Epoch 5/5\n",
      "14634/14634 [==============================] - 35s 2ms/step - loss: 0.2057 - accuracy: 0.9208 - val_loss: 0.2034 - val_accuracy: 0.9213\n"
     ]
    }
   ],
   "source": [
    "history = model.fit(X_train, y_train, epochs=5, batch_size=32, validation_data=(X_test, y_test))"
   ]
  },
  {
   "cell_type": "code",
   "execution_count": 44,
   "id": "0ff9b042",
   "metadata": {},
   "outputs": [
    {
     "data": {
      "text/plain": [
       "[<matplotlib.lines.Line2D at 0x7f67bcaf0a00>]"
      ]
     },
     "execution_count": 44,
     "metadata": {},
     "output_type": "execute_result"
    },
    {
     "data": {
      "image/png": "[encoded data removed]",
      "text/plain": [
       "<Figure size 640x480 with 1 Axes>"
      ]
     },
     "metadata": {},
     "output_type": "display_data"
    }
   ],
   "source": [
    "plt.plot(history.history[\"loss\"])"
   ]
  },
  {
   "cell_type": "markdown",
   "id": "18661c53",
   "metadata": {},
   "source": [
    "Our model converded too fast, but our loss seems fine.\n",
    "\n",
    "Let's find our threshold and check the results"
   ]
  },
  {
   "cell_type": "code",
   "execution_count": 45,
   "id": "d6656e8b",
   "metadata": {},
   "outputs": [
    {
     "name": "stdout",
     "output_type": "stream",
     "text": [
      "3659/3659 [==============================] - 3s 810us/step\n"
     ]
    }
   ],
   "source": [
    "y_pred_proba = model.predict(X_test)"
   ]
  },
  {
   "cell_type": "code",
   "execution_count": 46,
   "id": "00c82568",
   "metadata": {},
   "outputs": [],
   "source": [
    "positive_values = y_pred_proba[y_test == 1]\n",
    "negative_values = y_pred_proba[y_test == 0]"
   ]
  },
  {
   "cell_type": "code",
   "execution_count": 47,
   "id": "9632cd56",
   "metadata": {},
   "outputs": [
    {
     "data": {
      "text/plain": [
       "array([2.17502922e-08, 1.54840893e-01, 2.53974840e-01, 3.44055560e-01,\n",
       "       9.99622941e-01])"
      ]
     },
     "execution_count": 47,
     "metadata": {},
     "output_type": "execute_result"
    }
   ],
   "source": [
    "np.percentile(positive_values, [0, 30, 50, 70, 100])"
   ]
  },
  {
   "cell_type": "code",
   "execution_count": 48,
   "id": "1dc8cf17",
   "metadata": {},
   "outputs": [],
   "source": [
    "threshold = 0.13"
   ]
  },
  {
   "cell_type": "code",
   "execution_count": 49,
   "id": "e63c3032",
   "metadata": {},
   "outputs": [
    {
     "name": "stdout",
     "output_type": "stream",
     "text": [
      "[False  True] [2440 6880]\n",
      "Accuracy: 0.7381974248927039\n"
     ]
    }
   ],
   "source": [
    "unique, counts = np.unique((positive_values > threshold), return_counts=True)\n",
    "print(unique, counts)\n",
    "print(\"Accuracy:\", counts[1]/counts.sum())"
   ]
  },
  {
   "cell_type": "code",
   "execution_count": 50,
   "id": "7d9cb25b",
   "metadata": {},
   "outputs": [
    {
     "name": "stdout",
     "output_type": "stream",
     "text": [
      "[False  True] [18481 89267]\n",
      "Accuracy: 0.8284794149311356\n"
     ]
    }
   ],
   "source": [
    "unique, counts = np.unique((negative_values <= threshold), return_counts=True)\n",
    "print(unique, counts)\n",
    "print(\"Accuracy:\", counts[1]/counts.sum())"
   ]
  },
  {
   "cell_type": "markdown",
   "id": "bc5a78e8",
   "metadata": {},
   "source": [
    "Our tensorflow model performed slightly better on negative targets and a little worse on positive targets"
   ]
  },
  {
   "cell_type": "code",
   "execution_count": 52,
   "id": "9954fd86",
   "metadata": {},
   "outputs": [
    {
     "name": "stdout",
     "output_type": "stream",
     "text": [
      "INFO:tensorflow:Assets written to: models/binary_classification_model/assets\n"
     ]
    },
    {
     "name": "stderr",
     "output_type": "stream",
     "text": [
      "INFO:tensorflow:Assets written to: models/binary_classification_model/assets\n"
     ]
    }
   ],
   "source": [
    "model.save(\"models/binary_classification_model\")"
   ]
  },
  {
   "cell_type": "code",
   "execution_count": null,
   "id": "7c9e0455",
   "metadata": {},
   "outputs": [],
   "source": []
  }
 ],
 "metadata": {
  "kernelspec": {
   "display_name": "Python 3 (ipykernel)",
   "language": "python",
   "name": "python3"
  },
  "language_info": {
   "codemirror_mode": {
    "name": "ipython",
    "version": 3
   },
   "file_extension": ".py",
   "mimetype": "text/x-python",
   "name": "python",
   "nbconvert_exporter": "python",
   "pygments_lexer": "ipython3",
   "version": "3.9.16"
  }
 },
 "nbformat": 4,
 "nbformat_minor": 5
}
