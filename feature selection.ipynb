{
 "cells": [
  {
   "cell_type": "markdown",
   "id": "99d4618f",
   "metadata": {},
   "source": [
    "# Feature Selection\n",
    "In this notebook, we will explore if we can train a model using fewer features.\n",
    "\n",
    "As always, let's do the imports and load and transform the data"
   ]
  },
  {
   "cell_type": "code",
   "execution_count": 1,
   "id": "f03e8bb9",
   "metadata": {},
   "outputs": [],
   "source": [
    "import pandas as pd\n",
    "import numpy as np\n",
    "from matplotlib import pyplot as plt\n",
    "import lightgbm as lgb\n",
    "from sklearn.model_selection import train_test_split\n",
    "from sklearn.metrics import accuracy_score\n",
    "from sklearn.ensemble import RandomForestClassifier\n",
    "from sklearn.feature_selection import SelectFromModel"
   ]
  },
  {
   "cell_type": "code",
   "execution_count": 2,
   "id": "2494ea10",
   "metadata": {},
   "outputs": [],
   "source": [
    "df = pd.read_csv(\"test_data.csv\", sep=\";\")"
   ]
  },
  {
   "cell_type": "code",
   "execution_count": 3,
   "id": "7c422953",
   "metadata": {},
   "outputs": [],
   "source": [
    "df = df.drop(\"Unnamed: 0\", axis=1)"
   ]
  },
  {
   "cell_type": "code",
   "execution_count": 4,
   "id": "0fd7c17c",
   "metadata": {},
   "outputs": [],
   "source": [
    "df = df.set_index(\"id\")"
   ]
  },
  {
   "cell_type": "code",
   "execution_count": 5,
   "id": "8e7f5746",
   "metadata": {},
   "outputs": [],
   "source": [
    "country_index = list(df[\"country\"].unique())\n",
    "platform_index = list(df[\"creation_platform\"].unique())\n",
    "source_index = list(df[\"source_pulido\"].unique())"
   ]
  },
  {
   "cell_type": "code",
   "execution_count": 6,
   "id": "d959376a",
   "metadata": {},
   "outputs": [],
   "source": [
    "df_num_values = df.drop([\"country\", \"creation_platform\", \"source_pulido\"], axis=1)\n",
    "df_num_values[\"country_index\"] = df[\"country\"].apply(lambda i: country_index.index(i))\n",
    "df_num_values[\"creation_platform_index\"] = df[\"creation_platform\"].apply(lambda i: platform_index.index(i))\n",
    "df_num_values[\"source_pulido_index\"] = df[\"source_pulido\"].apply(lambda i: source_index.index(i))"
   ]
  },
  {
   "cell_type": "code",
   "execution_count": 7,
   "id": "c73b1c16",
   "metadata": {},
   "outputs": [],
   "source": [
    "X_train, X_test, y_train, y_test = train_test_split(df_num_values.drop(\"target\", axis=1), df_num_values.target, test_size=0.2, random_state=42)"
   ]
  },
  {
   "cell_type": "code",
   "execution_count": 8,
   "id": "6cfcfc42",
   "metadata": {},
   "outputs": [],
   "source": [
    "train_data = lgb.Dataset(X_train, label=y_train)\n",
    "test_data = lgb.Dataset(X_test, label=y_test)"
   ]
  },
  {
   "cell_type": "markdown",
   "id": "b6139074",
   "metadata": {},
   "source": [
    "Here where the fun begins.\n",
    "\n",
    "We'll use the `SelectFromModel` from `sklearn` to select the features with more importance from our dataset."
   ]
  },
  {
   "cell_type": "code",
   "execution_count": 9,
   "id": "d41aa15e",
   "metadata": {},
   "outputs": [],
   "source": [
    "rf_clf = RandomForestClassifier(n_estimators=100, random_state=42)\n",
    "feat_selector = SelectFromModel(rf_clf)"
   ]
  },
  {
   "cell_type": "code",
   "execution_count": 10,
   "id": "5fe10b86",
   "metadata": {},
   "outputs": [
    {
     "data": {
      "text/html": [
       "<style>#sk-container-id-1 {color: black;}#sk-container-id-1 pre{padding: 0;}#sk-container-id-1 div.sk-toggleable {background-color: white;}#sk-container-id-1 label.sk-toggleable__label {cursor: pointer;display: block;width: 100%;margin-bottom: 0;padding: 0.3em;box-sizing: border-box;text-align: center;}#sk-container-id-1 label.sk-toggleable__label-arrow:before {content: \"▸\";float: left;margin-right: 0.25em;color: #696969;}#sk-container-id-1 label.sk-toggleable__label-arrow:hover:before {color: black;}#sk-container-id-1 div.sk-estimator:hover label.sk-toggleable__label-arrow:before {color: black;}#sk-container-id-1 div.sk-toggleable__content {max-height: 0;max-width: 0;overflow: hidden;text-align: left;background-color: #f0f8ff;}#sk-container-id-1 div.sk-toggleable__content pre {margin: 0.2em;color: black;border-radius: 0.25em;background-color: #f0f8ff;}#sk-container-id-1 input.sk-toggleable__control:checked~div.sk-toggleable__content {max-height: 200px;max-width: 100%;overflow: auto;}#sk-container-id-1 input.sk-toggleable__control:checked~label.sk-toggleable__label-arrow:before {content: \"▾\";}#sk-container-id-1 div.sk-estimator input.sk-toggleable__control:checked~label.sk-toggleable__label {background-color: #d4ebff;}#sk-container-id-1 div.sk-label input.sk-toggleable__control:checked~label.sk-toggleable__label {background-color: #d4ebff;}#sk-container-id-1 input.sk-hidden--visually {border: 0;clip: rect(1px 1px 1px 1px);clip: rect(1px, 1px, 1px, 1px);height: 1px;margin: -1px;overflow: hidden;padding: 0;position: absolute;width: 1px;}#sk-container-id-1 div.sk-estimator {font-family: monospace;background-color: #f0f8ff;border: 1px dotted black;border-radius: 0.25em;box-sizing: border-box;margin-bottom: 0.5em;}#sk-container-id-1 div.sk-estimator:hover {background-color: #d4ebff;}#sk-container-id-1 div.sk-parallel-item::after {content: \"\";width: 100%;border-bottom: 1px solid gray;flex-grow: 1;}#sk-container-id-1 div.sk-label:hover label.sk-toggleable__label {background-color: #d4ebff;}#sk-container-id-1 div.sk-serial::before {content: \"\";position: absolute;border-left: 1px solid gray;box-sizing: border-box;top: 0;bottom: 0;left: 50%;z-index: 0;}#sk-container-id-1 div.sk-serial {display: flex;flex-direction: column;align-items: center;background-color: white;padding-right: 0.2em;padding-left: 0.2em;position: relative;}#sk-container-id-1 div.sk-item {position: relative;z-index: 1;}#sk-container-id-1 div.sk-parallel {display: flex;align-items: stretch;justify-content: center;background-color: white;position: relative;}#sk-container-id-1 div.sk-item::before, #sk-container-id-1 div.sk-parallel-item::before {content: \"\";position: absolute;border-left: 1px solid gray;box-sizing: border-box;top: 0;bottom: 0;left: 50%;z-index: -1;}#sk-container-id-1 div.sk-parallel-item {display: flex;flex-direction: column;z-index: 1;position: relative;background-color: white;}#sk-container-id-1 div.sk-parallel-item:first-child::after {align-self: flex-end;width: 50%;}#sk-container-id-1 div.sk-parallel-item:last-child::after {align-self: flex-start;width: 50%;}#sk-container-id-1 div.sk-parallel-item:only-child::after {width: 0;}#sk-container-id-1 div.sk-dashed-wrapped {border: 1px dashed gray;margin: 0 0.4em 0.5em 0.4em;box-sizing: border-box;padding-bottom: 0.4em;background-color: white;}#sk-container-id-1 div.sk-label label {font-family: monospace;font-weight: bold;display: inline-block;line-height: 1.2em;}#sk-container-id-1 div.sk-label-container {text-align: center;}#sk-container-id-1 div.sk-container {/* jupyter's `normalize.less` sets `[hidden] { display: none; }` but bootstrap.min.css set `[hidden] { display: none !important; }` so we also need the `!important` here to be able to override the default hidden behavior on the sphinx rendered scikit-learn.org. See: https://github.com/scikit-learn/scikit-learn/issues/21755 */display: inline-block !important;position: relative;}#sk-container-id-1 div.sk-text-repr-fallback {display: none;}</style><div id=\"sk-container-id-1\" class=\"sk-top-container\"><div class=\"sk-text-repr-fallback\"><pre>SelectFromModel(estimator=RandomForestClassifier(random_state=42))</pre><b>In a Jupyter environment, please rerun this cell to show the HTML representation or trust the notebook. <br />On GitHub, the HTML representation is unable to render, please try loading this page with nbviewer.org.</b></div><div class=\"sk-container\" hidden><div class=\"sk-item sk-dashed-wrapped\"><div class=\"sk-label-container\"><div class=\"sk-label sk-toggleable\"><input class=\"sk-toggleable__control sk-hidden--visually\" id=\"sk-estimator-id-1\" type=\"checkbox\" ><label for=\"sk-estimator-id-1\" class=\"sk-toggleable__label sk-toggleable__label-arrow\">SelectFromModel</label><div class=\"sk-toggleable__content\"><pre>SelectFromModel(estimator=RandomForestClassifier(random_state=42))</pre></div></div></div><div class=\"sk-parallel\"><div class=\"sk-parallel-item\"><div class=\"sk-item\"><div class=\"sk-label-container\"><div class=\"sk-label sk-toggleable\"><input class=\"sk-toggleable__control sk-hidden--visually\" id=\"sk-estimator-id-2\" type=\"checkbox\" ><label for=\"sk-estimator-id-2\" class=\"sk-toggleable__label sk-toggleable__label-arrow\">estimator: RandomForestClassifier</label><div class=\"sk-toggleable__content\"><pre>RandomForestClassifier(random_state=42)</pre></div></div></div><div class=\"sk-serial\"><div class=\"sk-item\"><div class=\"sk-estimator sk-toggleable\"><input class=\"sk-toggleable__control sk-hidden--visually\" id=\"sk-estimator-id-3\" type=\"checkbox\" ><label for=\"sk-estimator-id-3\" class=\"sk-toggleable__label sk-toggleable__label-arrow\">RandomForestClassifier</label><div class=\"sk-toggleable__content\"><pre>RandomForestClassifier(random_state=42)</pre></div></div></div></div></div></div></div></div></div></div>"
      ],
      "text/plain": [
       "SelectFromModel(estimator=RandomForestClassifier(random_state=42))"
      ]
     },
     "execution_count": 10,
     "metadata": {},
     "output_type": "execute_result"
    }
   ],
   "source": [
    "feat_selector.fit(X_train, y_train)"
   ]
  },
  {
   "cell_type": "code",
   "execution_count": 11,
   "id": "cd6537f1",
   "metadata": {},
   "outputs": [],
   "source": [
    "X_train_selected = feat_selector.transform(X_train)\n",
    "X_test_selected = feat_selector.transform(X_test)"
   ]
  },
  {
   "cell_type": "code",
   "execution_count": 12,
   "id": "ed52a196",
   "metadata": {},
   "outputs": [
    {
     "data": {
      "text/plain": [
       "Index(['creation_weekday', 'creation_hour', 'total_product_categories',\n",
       "       'total_events_on_Web', 'source_pulido_index'],\n",
       "      dtype='object')"
      ]
     },
     "execution_count": 12,
     "metadata": {},
     "output_type": "execute_result"
    }
   ],
   "source": [
    "X_train.columns[feat_selector.get_support()]"
   ]
  },
  {
   "cell_type": "markdown",
   "id": "484ca716",
   "metadata": {},
   "source": [
    "After running the code, we discover that the most important features are:\n",
    " - creation_weekday\n",
    " - creation_hour\n",
    " - total_product_categories\n",
    " - total_events_on_Web\n",
    " - source_pulido_index\n",
    " \n",
    "Now, we can train a model using only this features."
   ]
  },
  {
   "cell_type": "code",
   "execution_count": 13,
   "id": "c8f6df32",
   "metadata": {},
   "outputs": [],
   "source": [
    "params = {\n",
    "    'objective': 'binary',\n",
    "    'metric': 'binary_error',\n",
    "    'boosting_type': 'gbdt',\n",
    "    'num_leaves': 31,\n",
    "    'learning_rate': 0.05,\n",
    "    'feature_fraction': 0.9,\n",
    "    'bagging_fraction': 0.8,\n",
    "    'bagging_freq': 5,\n",
    "    'verbose': 0\n",
    "}"
   ]
  },
  {
   "cell_type": "code",
   "execution_count": 14,
   "id": "2a8c1fd5",
   "metadata": {},
   "outputs": [],
   "source": [
    "num_round = 100\n",
    "bst = lgb.train(params, train_data, num_round, valid_sets=[test_data])"
   ]
  },
  {
   "cell_type": "code",
   "execution_count": 15,
   "id": "187ecd68",
   "metadata": {},
   "outputs": [],
   "source": [
    "y_pred = bst.predict(X_test, num_iteration=bst.best_iteration)\n",
    "y_pred_binary = [1 if pred > 0.5 else 0 for pred in y_pred]"
   ]
  },
  {
   "cell_type": "code",
   "execution_count": 16,
   "id": "077c69e2",
   "metadata": {},
   "outputs": [
    {
     "name": "stdout",
     "output_type": "stream",
     "text": [
      "Accuracy with feature selection: 0.9229336795708477\n"
     ]
    }
   ],
   "source": [
    "accuracy = accuracy_score(y_test, y_pred_binary)\n",
    "print(\"Accuracy with feature selection:\", accuracy)"
   ]
  },
  {
   "cell_type": "markdown",
   "id": "6d2043a8",
   "metadata": {},
   "source": [
    "The model have a good overall accuracy, but let's do the always and try to find a good threshold for maitain a good accuracy in both positive and negative targets"
   ]
  },
  {
   "cell_type": "code",
   "execution_count": 17,
   "id": "c35e6981",
   "metadata": {},
   "outputs": [
    {
     "data": {
      "text/plain": [
       "array([0.0016176 , 0.0054814 , 0.0162957 , 0.05472345, 0.78071773])"
      ]
     },
     "execution_count": 17,
     "metadata": {},
     "output_type": "execute_result"
    }
   ],
   "source": [
    "np.percentile(y_pred[y_test == 0], [0, 30, 50, 70, 100])"
   ]
  },
  {
   "cell_type": "code",
   "execution_count": 18,
   "id": "c8b9c243",
   "metadata": {},
   "outputs": [
    {
     "data": {
      "text/plain": [
       "array([0.0016337 , 0.15414669, 0.25907854, 0.37273034, 0.77300839])"
      ]
     },
     "execution_count": 18,
     "metadata": {},
     "output_type": "execute_result"
    }
   ],
   "source": [
    "np.percentile(y_pred[y_test == 1], [0, 30, 50, 70, 100])"
   ]
  },
  {
   "cell_type": "code",
   "execution_count": 31,
   "id": "77298e99",
   "metadata": {},
   "outputs": [],
   "source": [
    "threshold = 0.1\n",
    "target_0_preds = y_pred[y_test == 0] <= threshold\n",
    "target_1_preds = y_pred[y_test == 1] > threshold"
   ]
  },
  {
   "cell_type": "code",
   "execution_count": 32,
   "id": "aea09321",
   "metadata": {},
   "outputs": [
    {
     "name": "stdout",
     "output_type": "stream",
     "text": [
      "[False  True] [21440 86308]\n",
      "Accuracy: 0.8010171882540743\n"
     ]
    }
   ],
   "source": [
    "unique, counts = np.unique(target_0_preds, return_counts=True)\n",
    "print(unique, counts)\n",
    "print(\"Accuracy:\", counts[1]/counts.sum())"
   ]
  },
  {
   "cell_type": "code",
   "execution_count": 33,
   "id": "f3594522",
   "metadata": {},
   "outputs": [
    {
     "name": "stdout",
     "output_type": "stream",
     "text": [
      "[False  True] [1837 7483]\n",
      "Accuracy: 0.8028969957081545\n"
     ]
    }
   ],
   "source": [
    "unique, counts = np.unique(target_1_preds, return_counts=True)\n",
    "print(unique, counts)\n",
    "print(\"Accuracy:\", counts[1]/counts.sum())"
   ]
  },
  {
   "cell_type": "markdown",
   "id": "7a34f42a",
   "metadata": {},
   "source": [
    "And we've reached almost the save result as always: 0.8.\n",
    "\n",
    "Let's save the model"
   ]
  },
  {
   "cell_type": "code",
   "execution_count": 34,
   "id": "ab55ab00",
   "metadata": {},
   "outputs": [],
   "source": [
    "import pickle\n",
    "with open('models/lightgbm_feature_selection_model.pkl', 'wb') as f:\n",
    "    pickle.dump(bst, f)"
   ]
  },
  {
   "cell_type": "code",
   "execution_count": null,
   "id": "3a9e6976",
   "metadata": {},
   "outputs": [],
   "source": []
  }
 ],
 "metadata": {
  "kernelspec": {
   "display_name": "Python 3 (ipykernel)",
   "language": "python",
   "name": "python3"
  },
  "language_info": {
   "codemirror_mode": {
    "name": "ipython",
    "version": 3
   },
   "file_extension": ".py",
   "mimetype": "text/x-python",
   "name": "python",
   "nbconvert_exporter": "python",
   "pygments_lexer": "ipython3",
   "version": "3.9.16"
  }
 },
 "nbformat": 4,
 "nbformat_minor": 5
}
