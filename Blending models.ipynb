{
 "cells": [
  {
   "cell_type": "markdown",
   "id": "2d9298a9",
   "metadata": {},
   "source": [
    "# Blending models\n",
    "Here we are going to blend the trained models and test if it can perform better"
   ]
  },
  {
   "cell_type": "code",
   "execution_count": 1,
   "id": "00b9c7db",
   "metadata": {},
   "outputs": [
    {
     "name": "stderr",
     "output_type": "stream",
     "text": [
      "2024-03-28 21:04:52.138366: I tensorflow/core/util/port.cc:110] oneDNN custom operations are on. You may see slightly different numerical results due to floating-point round-off errors from different computation orders. To turn them off, set the environment variable `TF_ENABLE_ONEDNN_OPTS=0`.\n",
      "2024-03-28 21:04:52.162938: I tensorflow/core/platform/cpu_feature_guard.cc:182] This TensorFlow binary is optimized to use available CPU instructions in performance-critical operations.\n",
      "To enable the following instructions: AVX2 AVX_VNNI FMA, in other operations, rebuild TensorFlow with the appropriate compiler flags.\n",
      "2024-03-28 21:04:52.491401: W tensorflow/compiler/tf2tensorrt/utils/py_utils.cc:38] TF-TRT Warning: Could not find TensorRT\n"
     ]
    }
   ],
   "source": [
    "import pandas as pd\n",
    "import numpy as np\n",
    "import lightgbm as lgb\n",
    "import tensorflow as tf\n",
    "import pickle\n",
    "from sklearn.model_selection import train_test_split\n",
    "from sklearn.metrics import accuracy_score"
   ]
  },
  {
   "cell_type": "code",
   "execution_count": 2,
   "id": "e12f4ab8",
   "metadata": {},
   "outputs": [],
   "source": [
    "df = pd.read_csv(\"test_data.csv\", sep=\";\")\n",
    "df = df.drop(\"Unnamed: 0\", axis=1)\n",
    "df = df.set_index(\"id\")"
   ]
  },
  {
   "cell_type": "code",
   "execution_count": 3,
   "id": "7d18ffeb",
   "metadata": {},
   "outputs": [],
   "source": [
    "country_index = list(df[\"country\"].unique())\n",
    "platform_index = list(df[\"creation_platform\"].unique())\n",
    "source_index = list(df[\"source_pulido\"].unique())"
   ]
  },
  {
   "cell_type": "code",
   "execution_count": 4,
   "id": "e3a45894",
   "metadata": {},
   "outputs": [],
   "source": [
    "df_num_values = df.drop([\"country\", \"creation_platform\", \"source_pulido\"], axis=1)\n",
    "df_num_values[\"country_index\"] = df[\"country\"].apply(lambda i: country_index.index(i))\n",
    "df_num_values[\"creation_platform_index\"] = df[\"creation_platform\"].apply(lambda i: platform_index.index(i))\n",
    "df_num_values[\"source_pulido_index\"] = df[\"source_pulido\"].apply(lambda i: source_index.index(i))"
   ]
  },
  {
   "cell_type": "markdown",
   "id": "f1880677",
   "metadata": {},
   "source": [
    "All datasets were splited with the same test_size and random_state, so, every dataset should be the same for all the notebooks"
   ]
  },
  {
   "cell_type": "code",
   "execution_count": 5,
   "id": "a1fa04dc",
   "metadata": {},
   "outputs": [],
   "source": [
    "X_train, X_test, y_train, y_test = train_test_split(df_num_values.drop(\"target\", axis=1), df_num_values.target, test_size=0.2, random_state=42)"
   ]
  },
  {
   "cell_type": "code",
   "execution_count": 6,
   "id": "72dfe3c7",
   "metadata": {},
   "outputs": [],
   "source": [
    "test_data = lgb.Dataset(X_test, label=y_test)"
   ]
  },
  {
   "cell_type": "markdown",
   "id": "ab89e088",
   "metadata": {},
   "source": [
    "Loading all models"
   ]
  },
  {
   "cell_type": "code",
   "execution_count": 7,
   "id": "efa4bd19",
   "metadata": {},
   "outputs": [],
   "source": [
    "with open(\"models/lightgbm_model.pkl\", 'rb') as f:\n",
    "    lgbm_model = pickle.load(f)"
   ]
  },
  {
   "cell_type": "code",
   "execution_count": 11,
   "id": "8a6c1202",
   "metadata": {},
   "outputs": [],
   "source": [
    "with open(\"models/lightgbm_multiple_train_model.pkl\", 'rb') as f:\n",
    "    lgbm_multiple_train_model = pickle.load(f)"
   ]
  },
  {
   "cell_type": "code",
   "execution_count": 8,
   "id": "1e57bb53",
   "metadata": {},
   "outputs": [],
   "source": [
    "with open(\"models/lightgbm_feature_selection_model.pkl\", 'rb') as f:\n",
    "    lgbm_feature_selection_model = pickle.load(f)"
   ]
  },
  {
   "cell_type": "code",
   "execution_count": 9,
   "id": "0c985ab2",
   "metadata": {},
   "outputs": [
    {
     "name": "stderr",
     "output_type": "stream",
     "text": [
      "2024-03-28 21:08:57.766167: I tensorflow/compiler/xla/stream_executor/cuda/cuda_gpu_executor.cc:981] could not open file to read NUMA node: /sys/bus/pci/devices/0000:01:00.0/numa_node\n",
      "Your kernel may have been built without NUMA support.\n",
      "2024-03-28 21:08:57.784225: I tensorflow/compiler/xla/stream_executor/cuda/cuda_gpu_executor.cc:981] could not open file to read NUMA node: /sys/bus/pci/devices/0000:01:00.0/numa_node\n",
      "Your kernel may have been built without NUMA support.\n",
      "2024-03-28 21:08:57.784640: I tensorflow/compiler/xla/stream_executor/cuda/cuda_gpu_executor.cc:981] could not open file to read NUMA node: /sys/bus/pci/devices/0000:01:00.0/numa_node\n",
      "Your kernel may have been built without NUMA support.\n",
      "2024-03-28 21:08:57.786538: I tensorflow/compiler/xla/stream_executor/cuda/cuda_gpu_executor.cc:981] could not open file to read NUMA node: /sys/bus/pci/devices/0000:01:00.0/numa_node\n",
      "Your kernel may have been built without NUMA support.\n",
      "2024-03-28 21:08:57.786681: I tensorflow/compiler/xla/stream_executor/cuda/cuda_gpu_executor.cc:981] could not open file to read NUMA node: /sys/bus/pci/devices/0000:01:00.0/numa_node\n",
      "Your kernel may have been built without NUMA support.\n",
      "2024-03-28 21:08:57.786772: I tensorflow/compiler/xla/stream_executor/cuda/cuda_gpu_executor.cc:981] could not open file to read NUMA node: /sys/bus/pci/devices/0000:01:00.0/numa_node\n",
      "Your kernel may have been built without NUMA support.\n",
      "2024-03-28 21:08:57.896461: I tensorflow/compiler/xla/stream_executor/cuda/cuda_gpu_executor.cc:981] could not open file to read NUMA node: /sys/bus/pci/devices/0000:01:00.0/numa_node\n",
      "Your kernel may have been built without NUMA support.\n",
      "2024-03-28 21:08:57.896656: I tensorflow/compiler/xla/stream_executor/cuda/cuda_gpu_executor.cc:981] could not open file to read NUMA node: /sys/bus/pci/devices/0000:01:00.0/numa_node\n",
      "Your kernel may have been built without NUMA support.\n",
      "2024-03-28 21:08:57.896666: I tensorflow/core/common_runtime/gpu/gpu_device.cc:1726] Could not identify NUMA node of platform GPU id 0, defaulting to 0.  Your kernel may not have been built with NUMA support.\n",
      "2024-03-28 21:08:57.896802: I tensorflow/compiler/xla/stream_executor/cuda/cuda_gpu_executor.cc:981] could not open file to read NUMA node: /sys/bus/pci/devices/0000:01:00.0/numa_node\n",
      "Your kernel may have been built without NUMA support.\n",
      "2024-03-28 21:08:57.896823: I tensorflow/core/common_runtime/gpu/gpu_device.cc:1639] Created device /job:localhost/replica:0/task:0/device:GPU:0 with 9558 MB memory:  -> device: 0, name: NVIDIA GeForce RTX 4070, pci bus id: 0000:01:00.0, compute capability: 8.9\n"
     ]
    }
   ],
   "source": [
    "tf_model = tf.keras.models.load_model('models/binary_classification_model/')"
   ]
  },
  {
   "cell_type": "markdown",
   "id": "4ead2600",
   "metadata": {},
   "source": [
    "Calculating the average for all models predictions"
   ]
  },
  {
   "cell_type": "code",
   "execution_count": 24,
   "id": "f4b9e4d9",
   "metadata": {},
   "outputs": [
    {
     "name": "stdout",
     "output_type": "stream",
     "text": [
      "3659/3659 [==============================] - 3s 724us/step\n"
     ]
    }
   ],
   "source": [
    "y_pred = (\n",
    "    lgbm_model.predict(X_test) +\n",
    "    lgbm_multiple_train_model.predict(X_test) +\n",
    "    lgbm_feature_selection_model.predict(X_test) +\n",
    "    tf_model.predict(X_test).reshape(-1)\n",
    ") / 4"
   ]
  },
  {
   "cell_type": "markdown",
   "id": "8fa67ccc",
   "metadata": {},
   "source": [
    "Simple accuracy test"
   ]
  },
  {
   "cell_type": "code",
   "execution_count": 26,
   "id": "f5c72323",
   "metadata": {},
   "outputs": [],
   "source": [
    "target_0_preds = y_pred[y_test == 0] <= 0.5\n",
    "target_1_preds = y_pred[y_test == 1] > 0.5"
   ]
  },
  {
   "cell_type": "code",
   "execution_count": 27,
   "id": "62030d8e",
   "metadata": {},
   "outputs": [
    {
     "name": "stdout",
     "output_type": "stream",
     "text": [
      "[False  True] [   607 107141]\n",
      "Accuracy for negative targets: 0.994366484760738\n"
     ]
    }
   ],
   "source": [
    "unique, counts = np.unique(target_0_preds, return_counts=True)\n",
    "print(unique, counts)\n",
    "print(\"Accuracy for negative targets:\", counts[1]/counts.sum())"
   ]
  },
  {
   "cell_type": "code",
   "execution_count": 28,
   "id": "8fe3e1c1",
   "metadata": {},
   "outputs": [
    {
     "name": "stdout",
     "output_type": "stream",
     "text": [
      "[False  True] [8377  943]\n",
      "Accuracy for positive targets: 0.10118025751072961\n"
     ]
    }
   ],
   "source": [
    "unique, counts = np.unique(target_1_preds, return_counts=True)\n",
    "print(unique, counts)\n",
    "print(\"Accuracy for positive targets:\", counts[1]/counts.sum())"
   ]
  },
  {
   "cell_type": "markdown",
   "id": "9c4a0774",
   "metadata": {},
   "source": [
    "Trying o dicover the best threshold to improve accuracy"
   ]
  },
  {
   "cell_type": "code",
   "execution_count": 29,
   "id": "4c391683",
   "metadata": {},
   "outputs": [
    {
     "data": {
      "text/plain": [
       "array([0.00109405, 0.00578518, 0.01667014, 0.05515303, 0.8257726 ])"
      ]
     },
     "execution_count": 29,
     "metadata": {},
     "output_type": "execute_result"
    }
   ],
   "source": [
    "np.percentile(y_pred[y_test == 0], [0, 30, 50, 70, 100])"
   ]
  },
  {
   "cell_type": "code",
   "execution_count": 30,
   "id": "4393f425",
   "metadata": {},
   "outputs": [
    {
     "data": {
      "text/plain": [
       "array([0.0010975 , 0.15564362, 0.26130802, 0.37139149, 0.84314669])"
      ]
     },
     "execution_count": 30,
     "metadata": {},
     "output_type": "execute_result"
    }
   ],
   "source": [
    "np.percentile(y_pred[y_test == 1], [0, 30, 50, 70, 100])"
   ]
  },
  {
   "cell_type": "code",
   "execution_count": 31,
   "id": "2bf10717",
   "metadata": {},
   "outputs": [],
   "source": [
    "threshold = 0.1\n",
    "target_0_preds = y_pred[y_test == 0] <= threshold\n",
    "target_1_preds = y_pred[y_test == 1] > threshold"
   ]
  },
  {
   "cell_type": "code",
   "execution_count": 32,
   "id": "cd486231",
   "metadata": {},
   "outputs": [
    {
     "name": "stdout",
     "output_type": "stream",
     "text": [
      "[False  True] [21595 86153]\n",
      "Accuracy for negative targets: 0.7995786464713962\n"
     ]
    }
   ],
   "source": [
    "unique, counts = np.unique(target_0_preds, return_counts=True)\n",
    "print(unique, counts)\n",
    "print(\"Accuracy for negative targets:\", counts[1]/counts.sum())"
   ]
  },
  {
   "cell_type": "code",
   "execution_count": 33,
   "id": "883c127f",
   "metadata": {},
   "outputs": [
    {
     "name": "stdout",
     "output_type": "stream",
     "text": [
      "[False  True] [1821 7499]\n",
      "Accuracy for positive targets: 0.8046137339055794\n"
     ]
    }
   ],
   "source": [
    "unique, counts = np.unique(target_1_preds, return_counts=True)\n",
    "print(unique, counts)\n",
    "print(\"Accuracy for positive targets:\", counts[1]/counts.sum())"
   ]
  },
  {
   "cell_type": "markdown",
   "id": "5caf7ae1",
   "metadata": {},
   "source": [
    "After all tests, the best accuracy for both targets were close to 0.8.\n",
    "\n",
    "Almoast the same for every model"
   ]
  },
  {
   "cell_type": "code",
   "execution_count": null,
   "id": "64958437",
   "metadata": {},
   "outputs": [],
   "source": []
  }
 ],
 "metadata": {
  "kernelspec": {
   "display_name": "Python 3 (ipykernel)",
   "language": "python",
   "name": "python3"
  },
  "language_info": {
   "codemirror_mode": {
    "name": "ipython",
    "version": 3
   },
   "file_extension": ".py",
   "mimetype": "text/x-python",
   "name": "python",
   "nbconvert_exporter": "python",
   "pygments_lexer": "ipython3",
   "version": "3.9.16"
  }
 },
 "nbformat": 4,
 "nbformat_minor": 5
}
